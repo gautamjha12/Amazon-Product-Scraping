{
 "cells": [
  {
   "cell_type": "code",
   "execution_count": 1,
   "metadata": {},
   "outputs": [],
   "source": [
    "import csv\n",
    "from bs4 import BeautifulSoup\n",
    "from selenium import webdriver"
   ]
  },
  {
   "cell_type": "code",
   "execution_count": 49,
   "metadata": {},
   "outputs": [],
   "source": [
    "def get_url(search_term):\n",
    "    \n",
    "    template = 'https://www.amazon.in/s?k=phones+under+15000&crid=JAV8K4GU7W6H&sprefix=phones%2Caps%2C287&ref=nb_sb_ss_ts-doa-p_1_6'\n",
    "    search_term = search_term.replace(' ' , '+')\n",
    "    \n",
    "    #     adding term to url\n",
    "    url =  template.format(search_term)\n",
    "    #     adding page query holder\n",
    "    url += '&page{}'\n",
    "    \n",
    "    return url\n",
    "\n",
    "\n",
    "def extract_record(item):\n",
    "    \n",
    "    # description and url\n",
    "    atag = item.h2.a\n",
    "    description = atag.text.strip()\n",
    "    url = 'https://amazon.com' + atag.get('href')\n",
    "    \n",
    "    try:\n",
    "        #Price\n",
    "        price_parent = item.find('span', 'a-price')\n",
    "        price = price_parent.find('span', 'a-offscreen').text\n",
    "        \n",
    "    except  AttributeError:\n",
    "            return\n",
    "            url = ''\n",
    "        \n",
    "    try:\n",
    "         #Rating\n",
    "        rating = item.i.text\n",
    "        #Review\n",
    "        review_count = item.find('span', 'a-size-base').text\n",
    "        \n",
    "    except AttributeError:\n",
    "        rating = ''\n",
    "        review_count = ''\n",
    "        \n",
    "    result = (description, price, rating, review_count,url)\n",
    "    \n",
    "    return result\n",
    "\n",
    "def main(search_term):\n",
    "    \n",
    "    driver = webdriver.Chrome(executable_path='X:\\Python\\Web_Crawling_Scraping\\AmazonProducts\\chromedriver.exe')\n",
    "\n",
    "    records = []\n",
    "    url = get_url(search_term)\n",
    "    \n",
    "    for page in range(1,21):\n",
    "        driver.get(url.format(page))\n",
    "        soup = BeautifulSoup(driver.page_source, 'html.parser')\n",
    "        results = soup.find_all('div', {'data-component-type': 's-search-result'})\n",
    "    \n",
    "        for item in results:\n",
    "            record = extract_record(item)\n",
    "            \n",
    "            if record: \n",
    "                records.append(record)\n",
    "\n",
    "\n",
    "    driver.close()\n",
    "    \n",
    "#     saving to csv\n",
    "\n",
    "    with open('results.csv','w', newline='',encoding='utf-8') as f:\n",
    "        writer=csv.writer(f)\n",
    "        writer.writerow(['Description', 'Price', 'Rating', 'ReviewCount', 'Url'])\n",
    "        writer.writerows(records)"
   ]
  },
  {
   "cell_type": "code",
   "execution_count": 50,
   "metadata": {},
   "outputs": [],
   "source": [
    "main('phones under 15000')"
   ]
  },
  {
   "cell_type": "code",
   "execution_count": null,
   "metadata": {},
   "outputs": [],
   "source": []
  }
 ],
 "metadata": {
  "kernelspec": {
   "display_name": "Python 3",
   "language": "python",
   "name": "python3"
  },
  "language_info": {
   "codemirror_mode": {
    "name": "ipython",
    "version": 3
   },
   "file_extension": ".py",
   "mimetype": "text/x-python",
   "name": "python",
   "nbconvert_exporter": "python",
   "pygments_lexer": "ipython3",
   "version": "3.8.5"
  }
 },
 "nbformat": 4,
 "nbformat_minor": 4
}
